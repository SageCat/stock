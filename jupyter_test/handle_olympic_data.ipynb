{
 "cells": [
  {
   "cell_type": "code",
   "execution_count": 101,
   "metadata": {
    "collapsed": true
   },
   "outputs": [],
   "source": [
    "import pandas as pd"
   ]
  },
  {
   "cell_type": "code",
   "execution_count": 102,
   "outputs": [],
   "source": [
    "source_data = pd.read_csv('Result_60.csv')\n",
    "source_data.sort_values(['Year','NOC'])\n",
    "olympic_year = set(source_data['Year'])\n",
    "title = list(olympic_year)\n",
    "title.sort()"
   ],
   "metadata": {
    "collapsed": false,
    "pycharm": {
     "name": "#%%\n"
    }
   }
  },
  {
   "cell_type": "code",
   "execution_count": 99,
   "outputs": [],
   "source": [
    "country_list = list(set(source_data['NOC']))\n",
    "country_list.sort()\n",
    "new_df = pd.DataFrame(columns=title, index=country_list)\n",
    "for i in title:\n",
    "    for j in country_list:\n",
    "        if len(source_data.loc[(source_data['Year'] == i) & (source_data['NOC'] == j), 'gold_medal_number']) >0:\n",
    "            new_df.loc[j,i] = source_data.loc[(source_data['Year'] == i) & (source_data['NOC'] == j), 'gold_medal_number'].values[0]\n",
    "        else:\n",
    "            new_df.loc[j,i] = 0"
   ],
   "metadata": {
    "collapsed": false,
    "pycharm": {
     "name": "#%%\n"
    }
   }
  },
  {
   "cell_type": "code",
   "execution_count": 100,
   "outputs": [],
   "source": [
    "new_df.to_csv('result_gold_medals.csv')\n",
    "\n"
   ],
   "metadata": {
    "collapsed": false,
    "pycharm": {
     "name": "#%%\n"
    }
   }
  }
 ],
 "metadata": {
  "kernelspec": {
   "display_name": "Python 3",
   "language": "python",
   "name": "python3"
  },
  "language_info": {
   "codemirror_mode": {
    "name": "ipython",
    "version": 2
   },
   "file_extension": ".py",
   "mimetype": "text/x-python",
   "name": "python",
   "nbconvert_exporter": "python",
   "pygments_lexer": "ipython2",
   "version": "2.7.6"
  }
 },
 "nbformat": 4,
 "nbformat_minor": 0
}