{
 "cells": [],
 "metadata": {
  "kernelspec": {
   "display_name": "Python 3",
   "language": "python",
   "name": "python3"
  },
  "language_info": {
   "codemirror_mode": {
    "name": "ipython",
    "version": 2
   },
   "file_extension": ".py",
   "mimetype": "text/x-python",
   "name": "python",
   "nbconvert_exporter": "python",
   "pygments_lexer": "ipython2",
   "version": "2.7.6"
  },
  "pycharm": {
   "stem_cell": {
    "cell_type": "raw",
    "source": [
     "import pandas as pd\n",
     "\n",
     "source_data = pd.read_csv('Result_60.csv')\n",
     "# print(source_data)\n",
     "\n",
     "\n",
     "\n",
     "title = set(source_data['Year'])\n",
     "year_list = list(title)\n",
     "year_list.sort()\n",
     "year_list.insert(0, 'country_code')\n",
     "new_df = pd.DataFrame(columns=year_list)\n",
     "print(new_df)\n"
    ],
    "metadata": {
     "collapsed": false
    }
   }
  }
 },
 "nbformat": 4,
 "nbformat_minor": 0
}